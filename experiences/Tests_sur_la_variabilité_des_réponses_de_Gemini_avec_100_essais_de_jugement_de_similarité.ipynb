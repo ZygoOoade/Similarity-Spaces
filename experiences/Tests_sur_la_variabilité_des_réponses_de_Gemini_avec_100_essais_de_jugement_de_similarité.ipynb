{
  "nbformat": 4,
  "nbformat_minor": 0,
  "metadata": {
    "colab": {
      "provenance": [],
      "gpuType": "V28"
    },
    "kernelspec": {
      "name": "python3",
      "display_name": "Python 3"
    },
    "language_info": {
      "name": "python"
    },
    "accelerator": "TPU"
  },
  "cells": [
    {
      "cell_type": "code",
      "execution_count": null,
      "metadata": {
        "colab": {
          "base_uri": "https://localhost:8080/"
        },
        "id": "il-9CfneMdns",
        "outputId": "e741c241-f7e0-4367-9557-cd5f5cff3859"
      },
      "outputs": [
        {
          "output_type": "stream",
          "name": "stdout",
          "text": [
            "\u001b[2K     \u001b[90m━━━━━━━━━━━━━━━━━━━━━━━━━━━━━━━━━━━━━━━━\u001b[0m \u001b[32m163.9/163.9 kB\u001b[0m \u001b[31m1.3 MB/s\u001b[0m eta \u001b[36m0:00:00\u001b[0m\n",
            "\u001b[2K     \u001b[90m━━━━━━━━━━━━━━━━━━━━━━━━━━━━━━━━━━━━━━━━\u001b[0m \u001b[32m718.3/718.3 kB\u001b[0m \u001b[31m7.4 MB/s\u001b[0m eta \u001b[36m0:00:00\u001b[0m\n",
            "\u001b[2K     \u001b[90m━━━━━━━━━━━━━━━━━━━━━━━━━━━━━━━━━━━━━━━━\u001b[0m \u001b[32m50.1/50.1 kB\u001b[0m \u001b[31m4.9 MB/s\u001b[0m eta \u001b[36m0:00:00\u001b[0m\n",
            "\u001b[?25h"
          ]
        }
      ],
      "source": [
        "pip install -q -U google-generativeai"
      ]
    },
    {
      "cell_type": "code",
      "source": [
        "# Import the Python SDK\n",
        "import google.generativeai as genai\n",
        "# Used to securely store your API key\n",
        "from google.colab import userdata\n",
        "\n",
        "GOOGLE_API_KEY=userdata.get('GOOGLE_API_KEY')\n",
        "genai.configure(api_key=GOOGLE_API_KEY)"
      ],
      "metadata": {
        "id": "yd0tDeSiMkf-"
      },
      "execution_count": null,
      "outputs": []
    },
    {
      "cell_type": "code",
      "source": [
        "model = genai.GenerativeModel('gemini-pro')"
      ],
      "metadata": {
        "id": "IMB7WAx7Mn3V"
      },
      "execution_count": null,
      "outputs": []
    },
    {
      "cell_type": "code",
      "source": [
        "import csv\n",
        "\n",
        "# Ouvrir un fichier CSV pour écrire les résultats\n",
        "with open('results.csv', 'w', newline='') as csvfile:\n",
        "    writer = csv.writer(csvfile)\n",
        "    writer.writerow(['Value'])  # En-tête du CSV\n",
        "\n",
        "    # Exécuter le fragment de code 1000 fois\n",
        "    for _ in range(100):\n",
        "        response = model.generate_content(\"Determines the degree of similarity between the cat and the lion between 0 and 100. Answers only the value of the degree of similarity.\")\n",
        "        writer.writerow([response])"
      ],
      "metadata": {
        "id": "37FyEO2DMvDe"
      },
      "execution_count": null,
      "outputs": []
    },
    {
      "cell_type": "code",
      "source": [
        "import csv\n",
        "import re\n",
        "\n",
        "def extract_numeric_value(cell_content):\n",
        "    # Utilisation de regex pour extraire la valeur numérique entre guillemets après \"text\"\n",
        "    match = re.search(r'\"text\":\\s*\"(\\d+)\"', cell_content)\n",
        "    if match:\n",
        "        return int(match.group(1))\n",
        "    else:\n",
        "        return None\n",
        "\n",
        "# Lecture du fichier CSV existant et extraction des valeurs numériques\n",
        "input_csv = 'results.csv'\n",
        "output_csv = 'gemini_responses.csv'\n",
        "\n",
        "with open(input_csv, mode='r', newline='') as infile, open(output_csv, mode='w', newline='') as outfile:\n",
        "    reader = csv.reader(infile)\n",
        "    writer = csv.writer(outfile)\n",
        "    writer.writerow(['response'])  # Écrire l'en-tête\n",
        "\n",
        "    for i, row in enumerate(reader):\n",
        "        if i < 100 and row:  # Assurez-vous de traiter les 100 premières lignes\n",
        "            cell_content = row[0]\n",
        "            numeric_value = extract_numeric_value(cell_content)\n",
        "            if numeric_value is not None:\n",
        "                writer.writerow([numeric_value])\n",
        "\n",
        "print(f\"Extraction terminée. Les valeurs numériques ont été sauvegardées dans {output_csv}\")\n"
      ],
      "metadata": {
        "colab": {
          "base_uri": "https://localhost:8080/"
        },
        "id": "q1Z--lcSN6wV",
        "outputId": "b145fdc5-485b-452a-c9c1-5aa323eeb4d5"
      },
      "execution_count": null,
      "outputs": [
        {
          "output_type": "stream",
          "name": "stdout",
          "text": [
            "Extraction terminée. Les valeurs numériques ont été sauvegardées dans gemini_responses.csv\n"
          ]
        }
      ]
    },
    {
      "cell_type": "code",
      "source": [
        "import csv\n",
        "import statistics\n",
        "\n",
        "# Lire les valeurs du fichier CSV\n",
        "values = []\n",
        "with open('gemini_responses.csv', 'r') as csvfile:\n",
        "    reader = csv.reader(csvfile)\n",
        "    next(reader)  # Ignorer l'en-tête\n",
        "    for row in reader:\n",
        "        values.append(int(row[0]))\n",
        "\n",
        "# Calculer les statistiques\n",
        "mean_value = statistics.mean(values)\n",
        "median_value = statistics.median(values)\n",
        "min_value = min(values)\n",
        "max_value = max(values)\n",
        "\n",
        "# Afficher les statistiques\n",
        "print(f\"Moyenne: {mean_value}\")\n",
        "print(f\"Médiane: {median_value}\")\n",
        "print(f\"min: {min_value}\")\n",
        "print(f\"max: {max_value}\")"
      ],
      "metadata": {
        "colab": {
          "base_uri": "https://localhost:8080/"
        },
        "id": "18jBjHKxOtRe",
        "outputId": "1f1c8e06-cb56-455d-c18c-fd80c35a5b7e"
      },
      "execution_count": null,
      "outputs": [
        {
          "output_type": "stream",
          "name": "stdout",
          "text": [
            "Moyenne: 80.06122448979592\n",
            "Médiane: 80.0\n",
            "min: 60\n",
            "max: 96\n"
          ]
        }
      ]
    }
  ]
}